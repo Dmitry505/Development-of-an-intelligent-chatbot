{
 "cells": [
  {
   "cell_type": "markdown",
   "metadata": {},
   "source": [
    "# Получение вопроса, поиск нужных чанков, генерация ответа"
   ]
  },
  {
   "cell_type": "markdown",
   "metadata": {},
   "source": [
    "### загрузка модели из data"
   ]
  },
  {
   "cell_type": "code",
   "execution_count": 1,
   "metadata": {},
   "outputs": [],
   "source": [
    "# создаём путь до места хранения\n",
    "from pathlib import Path\n",
    "\n",
    "# Получаем текущий рабочий каталог\n",
    "current_dir = Path.cwd()\n",
    "\n",
    "# Создаем путь к папке processed_data, которая находится на уровне выше текущего каталога\n",
    "processed_data_path = current_dir.parent / 'data' / 'processed_data' / 'union.parquet'\n"
   ]
  },
  {
   "cell_type": "code",
   "execution_count": 2,
   "metadata": {},
   "outputs": [],
   "source": [
    "from langchain_community.vectorstores import SKLearnVectorStore\n",
    "from langchain_ollama import OllamaEmbeddings\n",
    "\n",
    "vectorstore = SKLearnVectorStore(\n",
    "    embedding=OllamaEmbeddings(model=\"llama3.1\"), \n",
    "    persist_path=processed_data_path, \n",
    "    serializer=\"parquet\"\n",
    ")\n",
    "\n",
    "retriever = vectorstore.as_retriever(k=3)\n"
   ]
  },
  {
   "cell_type": "markdown",
   "metadata": {},
   "source": [
    "### Вопрос, поиск ответа"
   ]
  },
  {
   "cell_type": "code",
   "execution_count": 3,
   "metadata": {},
   "outputs": [],
   "source": [
    "question = \"Что делает оператор SELECT?\""
   ]
  },
  {
   "cell_type": "markdown",
   "metadata": {},
   "source": [
    "### Развёртывание модели"
   ]
  },
  {
   "cell_type": "code",
   "execution_count": 4,
   "metadata": {},
   "outputs": [],
   "source": [
    "from langchain.prompts import PromptTemplate\n",
    "\n",
    "# Define the prompt template for the LLM\n",
    "prompt = PromptTemplate(\n",
    "    template=\"\"\"Вы помощник в вопросах-ответах.\n",
    "    Для ответа на вопрос используйте следующие документы если они полезны.\n",
    "    Если вы не знаете ответа, поробуйте ответить самостоятельно или просто скажите, что не знаете.\n",
    "    Вопрос {question}\n",
    "    Документы: {documents}\n",
    "    Отвечать:\n",
    "    \"\"\",\n",
    "    input_variables=[\"question\", \"documents\"],\n",
    ")"
   ]
  },
  {
   "cell_type": "code",
   "execution_count": 5,
   "metadata": {},
   "outputs": [
    {
     "name": "stderr",
     "output_type": "stream",
     "text": [
      "C:\\Users\\zenfo\\AppData\\Local\\Temp\\ipykernel_14884\\1894568862.py:4: LangChainDeprecationWarning: The class `ChatOllama` was deprecated in LangChain 0.3.1 and will be removed in 1.0.0. An updated version of the class exists in the :class:`~langchain-ollama package and should be used instead. To use it run `pip install -U :class:`~langchain-ollama` and import as `from :class:`~langchain_ollama import ChatOllama``.\n",
      "  llm = ChatOllama(model='llama3.1', temperature=0)\n"
     ]
    }
   ],
   "source": [
    "from langchain_community.chat_models import ChatOllama\n",
    "from langchain_core.output_parsers import StrOutputParser\n",
    "\n",
    "llm = ChatOllama(model='llama3.1', temperature=0)\n"
   ]
  },
  {
   "cell_type": "code",
   "execution_count": 6,
   "metadata": {},
   "outputs": [],
   "source": [
    "# Create a chain combining the prompt template and LLM\n",
    "rag_chain = prompt | llm | StrOutputParser()"
   ]
  },
  {
   "cell_type": "markdown",
   "metadata": {},
   "source": [
    "### Пердаём данные модели и получаем ответ"
   ]
  },
  {
   "cell_type": "code",
   "execution_count": 7,
   "metadata": {},
   "outputs": [
    {
     "data": {
      "text/plain": [
       "[Document(metadata={'id': '790e0b5d-3feb-40ca-898e-5f2cca12383f', 'page': 2, 'source': '../data/standard_data/sql_primer.pdf'}, page_content='Показаны примеры использования транзакций, уделено внимание методам оптимизации запросов. Материал сопровождается многочисленными практическими примерами. Пособие может использоваться как для самостоятельного обучения, так и при проведении занятий под руководством преподавателя'),\n",
       " Document(metadata={'id': '7cc4eadb-1e8b-45e5-912c-914eb848bdad', 'page': 7, 'source': '../data/standard_data/sql_primer.pdf'}, page_content='Книга написана таким образом, чтобы ее можно было использовать как под руководством преподавателя, так и самостоятельно'),\n",
       " Document(metadata={'id': 'e7f6ece1-07b6-4b65-b531-af5350de9ebc', 'page': 5, 'source': '../data/standard_data/sql_primer.pdf'}, page_content='На эту роль идеально подходила СУБД PostgreSQL. Книга, которую вы держите в руках, появилась по инициативе и при поддержке компании Postgres Professional — российского поставщика СУБД PostgreSQL. Летом 2016 года я встретился с директором компании Олегом Бартуновым'),\n",
       " Document(metadata={'id': '4c484e2f-6f6b-40be-a0e2-ba78afeee192', 'page': 7, 'source': '../data/standard_data/sql_primer.pdf'}, page_content='Предполагается, что студенты имеют доступ к уже установленной СУБД, поэтому процедура установки PostgreSQL детально не рассматривается, а лишь даются указания о том, где найти инструкции по установке. Это пособие предназначено для получения практических навыков использования языка SQL')]"
      ]
     },
     "execution_count": 7,
     "metadata": {},
     "output_type": "execute_result"
    }
   ],
   "source": [
    "doc_texts = vectorstore.similarity_search(question)\n",
    "doc_texts"
   ]
  },
  {
   "cell_type": "code",
   "execution_count": 9,
   "metadata": {},
   "outputs": [],
   "source": [
    "answer = rag_chain.invoke({\"question\": question, \"documents\": doc_texts})"
   ]
  },
  {
   "cell_type": "code",
   "execution_count": null,
   "metadata": {},
   "outputs": [],
   "source": [
    "# Вопрос\n",
    "question"
   ]
  },
  {
   "cell_type": "code",
   "execution_count": null,
   "metadata": {},
   "outputs": [],
   "source": [
    "# Что выдала модель со всеми данными\n",
    "answer"
   ]
  }
 ],
 "metadata": {
  "kernelspec": {
   "display_name": "Python 3",
   "language": "python",
   "name": "python3"
  },
  "language_info": {
   "codemirror_mode": {
    "name": "ipython",
    "version": 3
   },
   "file_extension": ".py",
   "mimetype": "text/x-python",
   "name": "python",
   "nbconvert_exporter": "python",
   "pygments_lexer": "ipython3",
   "version": "3.12.6"
  }
 },
 "nbformat": 4,
 "nbformat_minor": 2
}
